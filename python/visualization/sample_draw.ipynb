{
 "cells": [
  {
   "cell_type": "code",
   "execution_count": null,
   "metadata": {},
   "outputs": [
    {
     "ename": "",
     "evalue": "",
     "output_type": "error",
     "traceback": [
      "\u001b[1;31mJupyter cannot be started. Error attempting to locate jupyter: Running cells with 'Python 3.9.9 64-bit' requires jupyter and notebook package.\n",
      "Run the following command to install 'jupyter and notebook' into the Python environment. \n",
      "Command: '/usr/bin/python3 -m pip install jupyter notebook -U'"
     ]
    }
   ],
   "source": [
    "import qiskit\n",
    "from naniwa.converter.qulacs.qulacs_converter import QulacsConverter\n",
    "from naniwa.converter.braket.converter import Blaket\n",
    "from qulacs import QuantumCircuit, ParametricQuantumCircuit\n",
    "from qulacs.gate import Identity, X, Y, Z, H, S, Sdag, T, Tdag, sqrtX, sqrtXdag, sqrtY, sqrtYdag, CNOT, CZ, SWAP, RX, RY, RZ, Pauli, PauliRotation, U1, U2, U3, DenseMatrix, Measurement, BitFlipNoise, DephasingNoise,  DepolarizingNoise\n",
    "# TODO: resolve IndepenedentXZNoise\n",
    "# Doc https://dojo.qulacs.org/ja/latest/notebooks/3.1_Qulacs_tutorial.html\n",
    "import matplotlib.pyplot as plt"
   ]
  },
  {
   "cell_type": "code",
   "execution_count": 3,
   "metadata": {},
   "outputs": [],
   "source": [
    "def sample_circuit():\n",
    "    circuit = ParametricQuantumCircuit(6)\n",
    "    circuit.add_X_gate(0)\n",
    "    circuit.add_Y_gate(0)\n",
    "    circuit.add_Z_gate(0)\n",
    "    circuit.add_H_gate(0)\n",
    "    circuit.add_S_gate(0)\n",
    "    circuit.add_Sdag_gate(0)\n",
    "    circuit.add_T_gate(0)\n",
    "    circuit.add_Tdag_gate(0)\n",
    "    \n",
    "    circuit.add_gate(Identity(1))\n",
    "    circuit.add_gate(H(1))\n",
    "    circuit.add_gate(X(1))\n",
    "    circuit.add_gate(Y(1))\n",
    "    circuit.add_gate(Z(1))\n",
    "    circuit.add_gate(S(1))\n",
    "    circuit.add_gate(Sdag(1))\n",
    "    circuit.add_gate(T(1))\n",
    "    circuit.add_gate(Tdag(1))\n",
    "    circuit.add_gate(sqrtX(1))\n",
    "    circuit.add_gate(sqrtXdag(1))\n",
    "    circuit.add_gate(sqrtY(1))\n",
    "    circuit.add_gate(sqrtYdag(1))\n",
    "    circuit.add_gate(RX(1,0.10))\n",
    "    circuit.add_gate(RY(1,0.20))\n",
    "    circuit.add_gate(RZ(1,0.30))\n",
    "    circuit.add_gate(CNOT(1,2))\n",
    "    circuit.add_gate(SWAP(1,2))\n",
    "    circuit.add_gate(CZ(1,2))\n",
    "\n",
    "    circuit.add_gate(DenseMatrix(1, [[0,1],[1,0]]))\n",
    "\n",
    "    # Pauli\n",
    "    target_list = [0,3,5]\n",
    "    pauli_index = [1,3,1] # 1:X , 2:Y, 3:Z\n",
    "    circuit.add_gate(Pauli(target_list, pauli_index))\n",
    "\n",
    "    angle = 0.5\n",
    "    gate = PauliRotation(target_list, pauli_index, angle)\n",
    "\n",
    "    return circuit"
   ]
  },
  {
   "cell_type": "code",
   "execution_count": 4,
   "metadata": {},
   "outputs": [
    {
     "name": "stdout",
     "output_type": "stream",
     "text": [
      "Warning: sqrtY is unsupported yet.\n",
      "Warning: sqrtYdag is unsupported yet.\n",
      "Warning: DenseMatrix is unsupported yet.\n",
      "Warning: Pauli is unsupported yet.\n"
     ]
    },
    {
     "data": {
      "image/png": "[encoded data removed]",
      "text/plain": [
       "<Figure size 1110x385.28 with 1 Axes>"
      ]
     },
     "execution_count": 4,
     "metadata": {},
     "output_type": "execute_result"
    }
   ],
   "source": [
    "circuit_qulacs = sample_circuit()\n",
    "circuit = QulacsConverter(circuit_qulacs)\n",
    "circuit_qiskit = circuit.qiskit_convert()\n",
    "circuit_qiskit.draw(output=\"mpl\")"
   ]
  },
  {
   "cell_type": "code",
   "execution_count": null,
   "metadata": {},
   "outputs": [],
   "source": []
  }
 ],
 "metadata": {
  "interpreter": {
   "hash": "916dbcbb3f70747c44a77c7bcd40155683ae19c65e1c03b4aa3499c5328201f1"
  },
  "kernelspec": {
   "display_name": "Python 3 (ipykernel)",
   "language": "python",
   "name": "python3"
  },
  "language_info": {
   "codemirror_mode": {
    "name": "ipython",
    "version": 3
   },
   "file_extension": ".py",
   "mimetype": "text/x-python",
   "name": "python",
   "nbconvert_exporter": "python",
   "pygments_lexer": "ipython3",
   "version": "3.6.8"
  }
 },
 "nbformat": 4,
 "nbformat_minor": 2
}
